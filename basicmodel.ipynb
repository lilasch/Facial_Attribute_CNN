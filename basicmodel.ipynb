{
  "cells": [
    {
      "cell_type": "markdown",
      "metadata": {
        "id": "view-in-github",
        "colab_type": "text"
      },
      "source": [
        "<a href=\"https://colab.research.google.com/github/lilasch/Facial_Attribute_CNN/blob/main/basicmodel.ipynb\" target=\"_parent\"><img src=\"https://colab.research.google.com/assets/colab-badge.svg\" alt=\"Open In Colab\"/></a>"
      ]
    },
    {
      "cell_type": "markdown",
      "metadata": {
        "id": "gUz8sUaAIqQj"
      },
      "source": [
        "**Facial Attribute Classification**\n",
        "\n",
        "Lila Schisgal and Phoebe Jeske\n"
      ]
    },
    {
      "cell_type": "markdown",
      "metadata": {
        "id": "EEiHEhSWtsT0"
      },
      "source": [
        "First, we import our data from two text files and partition it into training and validation data."
      ]
    },
    {
      "cell_type": "code",
      "execution_count": null,
      "metadata": {
        "colab": {
          "base_uri": "https://localhost:8080/"
        },
        "id": "y-AnqGT9HudD",
        "outputId": "86a46279-18c6-434c-ccf8-39ebec537f9d"
      },
      "outputs": [
        {
          "name": "stdout",
          "output_type": "stream",
          "text": [
            "Mounted at /content/drive\n"
          ]
        },
        {
          "name": "stderr",
          "output_type": "stream",
          "text": [
            "<ipython-input-53-c78c5ea5c41d>:14: ParserWarning: Falling back to the 'python' engine because the 'c' engine does not support regex separators (separators > 1 char and different from '\\s+' are interpreted as regex); you can avoid this warning by specifying engine='python'.\n",
            "  attributes = pd.read_csv(\"/content/drive/MyDrive/list_attr_celeba.txt\", skiprows = 1, delimiter=\"\\s+|\\t\")\n",
            "<ipython-input-53-c78c5ea5c41d>:17: ParserWarning: Falling back to the 'python' engine because the 'c' engine does not support regex separators (separators > 1 char and different from '\\s+' are interpreted as regex); you can avoid this warning by specifying engine='python'.\n",
            "  partitions = pd.read_csv(\"/content/drive/MyDrive/list_eval_partition.txt\", delimiter=\"\\s+|\\t\", header = None)\n"
          ]
        }
      ],
      "source": [
        "import tensorflow\n",
        "from tensorflow.keras.models import Sequential\n",
        "from tensorflow.keras.layers import Dense, Conv2D, Flatten\n",
        "import tensorflow\n",
        "import pandas as pd\n",
        "import cv2\n",
        "import numpy as np\n",
        "import glob\n",
        "\n",
        "# Load attributes csv\n",
        "attributes = pd.read_csv(\"list_attr_celeba.txt\", skiprows = 1, delimiter=\"\\s+|\\t\")\n",
        "\n",
        "# Load csv with partitions values\n",
        "partitions = pd.read_csv(\"list_eval_partition.txt\", delimiter=\"\\s+|\\t\", header = None)\n",
        "\n",
        "partitions.columns = ['image_name', 'dataset'] # setting column header names for partitions\n",
        "attributes['dataset'] = partitions['dataset'].values # copying the partition values into the attributes df\n"
      ]
    },
    {
      "cell_type": "markdown",
      "source": [
        "We unzip the file with our images."
      ],
      "metadata": {
        "id": "6zHV_EfHuzQZ"
      }
    },
    {
      "cell_type": "code",
      "execution_count": null,
      "metadata": {
        "id": "wmZnyF124m-G"
      },
      "outputs": [],
      "source": [
        "# unzipping image data\n",
        "import zipfile\n",
        "zippath = 'img_align_celeba.zip'\n",
        "targetfolder = 'all_images'\n",
        "\n",
        "with zipfile.ZipFile(zippath, 'r') as zip_ref:\n",
        "    zip_ref.extractall(targetfolder)"
      ]
    },
    {
      "cell_type": "markdown",
      "source": [
        "For now, we're just testing whether our network can identify whether someone is wearing glasses."
      ],
      "metadata": {
        "id": "AR13yFrgu1N3"
      }
    },
    {
      "cell_type": "code",
      "execution_count": null,
      "metadata": {
        "id": "tJqWv68bdruA"
      },
      "outputs": [],
      "source": [
        "# filter so just the eyeglasses attribute is included\n",
        "glasses_df = attributes.iloc[:, [15, 40]] # 40 attributes"
      ]
    },
    {
      "cell_type": "code",
      "execution_count": null,
      "metadata": {
        "id": "v6k_kIMEdGsV"
      },
      "outputs": [],
      "source": [
        "# the image filenames need to be in their own column\n",
        "glasses_df = glasses_df.reset_index()"
      ]
    },
    {
      "cell_type": "markdown",
      "source": [
        "We split our dataframes into subdataframes for train, validation, and test."
      ],
      "metadata": {
        "id": "XXx8nKz4u7dz"
      }
    },
    {
      "cell_type": "code",
      "execution_count": null,
      "metadata": {
        "colab": {
          "base_uri": "https://localhost:8080/",
          "height": 327
        },
        "id": "y8VdCTrMdv8I",
        "outputId": "ee52ccd6-2412-41d5-d151-db2a41192b35"
      },
      "outputs": [
        {
          "name": "stderr",
          "output_type": "stream",
          "text": [
            "<ipython-input-56-fa326fac323d>:9: SettingWithCopyWarning: \n",
            "A value is trying to be set on a copy of a slice from a DataFrame\n",
            "\n",
            "See the caveats in the documentation: https://pandas.pydata.org/pandas-docs/stable/user_guide/indexing.html#returning-a-view-versus-a-copy\n",
            "  train.drop(columns='dataset', inplace=True)\n",
            "<ipython-input-56-fa326fac323d>:11: SettingWithCopyWarning: \n",
            "A value is trying to be set on a copy of a slice from a DataFrame\n",
            "\n",
            "See the caveats in the documentation: https://pandas.pydata.org/pandas-docs/stable/user_guide/indexing.html#returning-a-view-versus-a-copy\n",
            "  valid.drop(columns='dataset', inplace=True)\n",
            "<ipython-input-56-fa326fac323d>:13: SettingWithCopyWarning: \n",
            "A value is trying to be set on a copy of a slice from a DataFrame\n",
            "\n",
            "See the caveats in the documentation: https://pandas.pydata.org/pandas-docs/stable/user_guide/indexing.html#returning-a-view-versus-a-copy\n",
            "  test.drop(columns='dataset', inplace=True)\n"
          ]
        },
        {
          "data": {
            "application/vnd.google.colaboratory.intrinsic+json": {
              "type": "string"
            },
            "text/plain": [
              "\"\\ntrain_labels = train.loc[:,'eyeglasses_or_not']\\nvalid_labels = valid.loc[:,'eyeglasses_or_not']\\ntest_labels = test.loc[:,'eyeglasses_or_not']\\ny_train=keras.utils.to_categorical(train_labels)\\ny_valid=keras.utils.to_categorical(valid_labels)\\ny_test=keras.utils.to_categorical(test_labels)\""
            ]
          },
          "execution_count": 56,
          "metadata": {},
          "output_type": "execute_result"
        }
      ],
      "source": [
        "# rename columns\n",
        "glasses_df.rename(columns={'index': 'image_names'}, inplace=True)\n",
        "glasses_df.rename(columns={'Eyeglasses': 'eyeglasses_or_not'}, inplace=True)\n",
        "\n",
        "# splitting the data\n",
        "train = glasses_df[glasses_df['dataset'] == 0]\n",
        "train.drop(columns='dataset', inplace=True)\n",
        "valid = glasses_df[glasses_df['dataset'] == 1]\n",
        "valid.drop(columns='dataset', inplace=True)\n",
        "test = glasses_df[glasses_df['dataset'] == 2]\n",
        "test.drop(columns='dataset', inplace=True)"
      ]
    },
    {
      "cell_type": "markdown",
      "source": [
        "We use an ImageDataGenerator to normalize and load our images from each dataframe."
      ],
      "metadata": {
        "id": "Z1fu9o-wu_e1"
      }
    },
    {
      "cell_type": "code",
      "execution_count": null,
      "metadata": {
        "colab": {
          "base_uri": "https://localhost:8080/"
        },
        "id": "GihQSrpiZt4E",
        "outputId": "c1be55d5-f279-4538-b7b9-4557d5ad11c3"
      },
      "outputs": [
        {
          "name": "stderr",
          "output_type": "stream",
          "text": [
            "<ipython-input-61-6f77becb2fd9>:6: SettingWithCopyWarning: \n",
            "A value is trying to be set on a copy of a slice from a DataFrame.\n",
            "Try using .loc[row_indexer,col_indexer] = value instead\n",
            "\n",
            "See the caveats in the documentation: https://pandas.pydata.org/pandas-docs/stable/user_guide/indexing.html#returning-a-view-versus-a-copy\n",
            "  train[\"eyeglasses_or_not\"] = train[\"eyeglasses_or_not\"].astype('str') # requires target in string format\n",
            "<ipython-input-61-6f77becb2fd9>:7: SettingWithCopyWarning: \n",
            "A value is trying to be set on a copy of a slice from a DataFrame.\n",
            "Try using .loc[row_indexer,col_indexer] = value instead\n",
            "\n",
            "See the caveats in the documentation: https://pandas.pydata.org/pandas-docs/stable/user_guide/indexing.html#returning-a-view-versus-a-copy\n",
            "  valid[\"eyeglasses_or_not\"] = valid[\"eyeglasses_or_not\"].astype('str')\n"
          ]
        },
        {
          "name": "stdout",
          "output_type": "stream",
          "text": [
            "Found 162770 validated image filenames belonging to 2 classes.\n",
            "Found 19867 validated image filenames belonging to 2 classes.\n"
          ]
        }
      ],
      "source": [
        "from keras.preprocessing.image import ImageDataGenerator\n",
        "\n",
        "train_datagen = ImageDataGenerator() # ImageDataGenerator for train\n",
        "valid_datagen = ImageDataGenerator() # ImageDataGenerator for valid\n",
        "\n",
        "train[\"eyeglasses_or_not\"] = train[\"eyeglasses_or_not\"].astype('str') # requires target in string format\n",
        "valid[\"eyeglasses_or_not\"] = valid[\"eyeglasses_or_not\"].astype('str')\n",
        "\n",
        "train_generator = train_datagen.flow_from_dataframe(dataframe=train,\n",
        "                                              directory='all_images/img_align_celeba/',\n",
        "                                              x_col=\"image_names\",\n",
        "                                              y_col=\"eyeglasses_or_not\",\n",
        "                                              subset=\"training\",\n",
        "                                              class_mode=\"binary\",\n",
        "                                              batch_size=64,\n",
        "                                              rescale=1.0/255,\n",
        "                                              target_size=(109,89)\n",
        "                                              )\n",
        "\n",
        "valid_generator = valid_datagen.flow_from_dataframe(dataframe=valid,\n",
        "                                              directory='all_images/img_align_celeba/',\n",
        "                                              x_col=\"image_names\",\n",
        "                                              y_col=\"eyeglasses_or_not\",\n",
        "                                              class_mode=\"binary\",\n",
        "                                              batch_size=64,\n",
        "                                              rescale=1.0/255,\n",
        "                                              target_size=(109,89)\n",
        "                                              )"
      ]
    },
    {
      "cell_type": "markdown",
      "source": [
        "We define a model with two convolutional layers and two dense layers with a binary output (probability that they are wearing glasses)."
      ],
      "metadata": {
        "id": "ux5TP1jwvHFk"
      }
    },
    {
      "cell_type": "code",
      "execution_count": null,
      "metadata": {
        "colab": {
          "base_uri": "https://localhost:8080/"
        },
        "id": "D8O6s1cg0hix",
        "outputId": "5c9a15c8-0adc-4489-e2da-ca783f9c4c4e"
      },
      "outputs": [
        {
          "name": "stdout",
          "output_type": "stream",
          "text": [
            "Model: \"sequential_19\"\n",
            "_________________________________________________________________\n",
            " Layer (type)                Output Shape              Param #   \n",
            "=================================================================\n",
            " conv2d_23 (Conv2D)          (None, 109, 89, 75)       2100      \n",
            "                                                                 \n",
            " conv2d_24 (Conv2D)          (None, 109, 89, 50)       33800     \n",
            "                                                                 \n",
            " flatten_15 (Flatten)        (None, 485050)            0         \n",
            "                                                                 \n",
            " dense_33 (Dense)            (None, 32)                15521632  \n",
            "                                                                 \n",
            " dense_34 (Dense)            (None, 1)                 33        \n",
            "                                                                 \n",
            "=================================================================\n",
            "Total params: 15557565 (59.35 MB)\n",
            "Trainable params: 15557565 (59.35 MB)\n",
            "Non-trainable params: 0 (0.00 Byte)\n",
            "_________________________________________________________________\n"
          ]
        }
      ],
      "source": [
        "model = Sequential()\n",
        "model.add(Conv2D(75, (3, 3), strides=1, padding=\"same\", activation=\"relu\",\n",
        "                 input_shape=(109, 89, 3)))\n",
        "model.add(Conv2D(50, (3, 3), strides=1, padding=\"same\", activation=\"relu\"))\n",
        "model.add(Flatten())\n",
        "model.add(Dense(units=32, activation=\"relu\"))\n",
        "model.add(Dense(units=1, activation=\"sigmoid\"))\n",
        "model.summary()"
      ]
    },
    {
      "cell_type": "markdown",
      "source": [
        "We train our model on the training data."
      ],
      "metadata": {
        "id": "gqbyPp9AvVvM"
      }
    },
    {
      "cell_type": "code",
      "execution_count": null,
      "metadata": {
        "colab": {
          "background_save": true,
          "base_uri": "https://localhost:8080/"
        },
        "id": "B0DiR9hHbW7u",
        "outputId": "f788bde1-b357-4d87-acdc-aeac48b45cb3"
      },
      "outputs": [
        {
          "name": "stderr",
          "output_type": "stream",
          "text": [
            "<ipython-input-63-10047e0ea62a>:5: UserWarning: `Model.fit_generator` is deprecated and will be removed in a future version. Please use `Model.fit`, which supports generators.\n",
            "  model.fit_generator(generator=train_generator,\n"
          ]
        },
        {
          "name": "stdout",
          "output_type": "stream",
          "text": [
            "Epoch 1/20\n",
            "1110/2543 [============>.................] - ETA: 1:17:21 - loss: 1.4382 - accuracy: 0.9346"
          ]
        }
      ],
      "source": [
        "model.compile(loss='binary_crossentropy',\n",
        "              optimizer='adam',\n",
        "              metrics=['accuracy'])\n",
        "\n",
        "model.fit_generator(generator=train_generator,\n",
        "          epochs=20,\n",
        "          steps_per_epoch=train.shape[0]//64,\n",
        "          validation_data=valid_generator,\n",
        "          validation_steps=valid.shape[0]//64,\n",
        "          verbose=1)"
      ]
    }
  ],
  "metadata": {
    "accelerator": "GPU",
    "colab": {
      "gpuType": "T4",
      "provenance": [],
      "include_colab_link": true
    },
    "kernelspec": {
      "display_name": "Python 3",
      "name": "python3"
    },
    "language_info": {
      "name": "python"
    }
  },
  "nbformat": 4,
  "nbformat_minor": 0
}